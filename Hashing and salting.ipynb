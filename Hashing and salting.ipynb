{
  "nbformat": 4,
  "nbformat_minor": 0,
  "metadata": {
    "colab": {
      "name": "Untitled1.ipynb",
      "provenance": [],
      "collapsed_sections": [],
      "authorship_tag": "ABX9TyOtNaMyUhgAHMthmFdFK0bo",
      "include_colab_link": true
    },
    "kernelspec": {
      "name": "python3",
      "display_name": "Python 3"
    },
    "language_info": {
      "name": "python"
    }
  },
  "cells": [
    {
      "cell_type": "markdown",
      "metadata": {
        "id": "view-in-github",
        "colab_type": "text"
      },
      "source": [
        "<a href=\"https://colab.research.google.com/github/pallavi-7220/ShapeAi-Project/blob/main/Hashing%20and%20salting.ipynb\" target=\"_parent\"><img src=\"https://colab.research.google.com/assets/colab-badge.svg\" alt=\"Open In Colab\"/></a>"
      ]
    },
    {
      "cell_type": "code",
      "metadata": {
        "colab": {
          "base_uri": "https://localhost:8080/"
        },
        "id": "pCaKbafDsYHU",
        "outputId": "4f71b84f-6ac7-44b4-ed78-361640f8b7e6"
      },
      "source": [
        "import hashlib\n",
        "import os\n",
        "print(hashlib.algorithms_available)"
      ],
      "execution_count": 4,
      "outputs": [
        {
          "output_type": "stream",
          "text": [
            "{'md5', 'sha512', 'blake2b', 'shake_256', 'blake2s', 'sha1', 'sha3_224', 'sha3_512', 'sha3_256', 'shake_128', 'sha224', 'sha384', 'sha256', 'sha3_384'}\n"
          ],
          "name": "stdout"
        }
      ]
    },
    {
      "cell_type": "code",
      "metadata": {
        "colab": {
          "base_uri": "https://localhost:8080/"
        },
        "id": "2v4vPGl6su0b",
        "outputId": "9296b197-da5d-413b-eb15-6c4078a2c69b"
      },
      "source": [
        "message = 'pallavi' .encode()\n",
        "print('md5:',hashlib.md5(message).hexdigest())"
      ],
      "execution_count": 6,
      "outputs": [
        {
          "output_type": "stream",
          "text": [
            "md5: e3480a8108a815dcfacfecda86a31889\n"
          ],
          "name": "stdout"
        }
      ]
    },
    {
      "cell_type": "code",
      "metadata": {
        "colab": {
          "base_uri": "https://localhost:8080/"
        },
        "id": "n7HvSXNWs9um",
        "outputId": "e69f7b63-62f7-42f9-b684-ffd8f33f8b38"
      },
      "source": [
        "print('sha256:',hashlib.sha256(message).hexdigest())\n",
        "print('blake2b:',hashlib.blake2b(message).hexdigest())\n",
        "print('sha384:',hashlib.sha384(message).hexdigest())"
      ],
      "execution_count": 7,
      "outputs": [
        {
          "output_type": "stream",
          "text": [
            "sha256: 17e8a6265fa646fd66ee3b6c8fbc61ebb121c481577eaedbad4652397d594fcb\n",
            "blake2b: 8f01a345a04469817e8a0e30a8ad6e0777404b6b85257f14372c06149154b66db9cec89d82c7ee157a97c4560eb0ac8791982f39e9bf9d7d0cce920003a9b49b\n",
            "sha384: 08beb3ba6e0afb75cf42618265c654afd667c4ca15f2ee2f66c8d410b5e0cdaffa2eff521b9b63db8703d5bae76a648b\n"
          ],
          "name": "stdout"
        }
      ]
    },
    {
      "cell_type": "code",
      "metadata": {
        "colab": {
          "base_uri": "https://localhost:8080/"
        },
        "id": "lVG-T4tdtQ22",
        "outputId": "1d25cc39-c088-406e-dcec-73d83d9f1986"
      },
      "source": [
        "salt=os.urandom(16)\n",
        "print('message_hash:',hashlib.pbkdf2_hmac(\"sha256\", message, salt, 100))"
      ],
      "execution_count": 8,
      "outputs": [
        {
          "output_type": "stream",
          "text": [
            "message_hash: b')\\xd7\\xc5S\\xc6\\xf3S\\xf9\\x1b\\xca\\xdf8g\\xa0\\xa9\\xc5B\\xe6y\\x9a\\t_\\xe5\\xe0^\\n\\x82\\x96\"\\xd6\\xf6\\x87'\n"
          ],
          "name": "stdout"
        }
      ]
    }
  ]
}