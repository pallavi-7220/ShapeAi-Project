{
  "nbformat": 4,
  "nbformat_minor": 0,
  "metadata": {
    "colab": {
      "name": "weather pro.ipynb",
      "provenance": [],
      "collapsed_sections": []
    },
    "kernelspec": {
      "name": "python3",
      "display_name": "Python 3"
    },
    "language_info": {
      "name": "python"
    }
  },
  "cells": [
    {
      "cell_type": "code",
      "metadata": {
        "colab": {
          "base_uri": "https://localhost:8080/"
        },
        "id": "qGiCgkbRTchW",
        "outputId": "ce230f5f-cfe4-4df6-ac7b-ddf7aa47ed2b"
      },
      "source": [
        "import requests\n",
        "#import os\n",
        "from datetime import datetime\n",
        " \n",
        "api_key = 'e46e8e3e57765f369e05f30ffb3fb123'\n",
        "location = input(\"Enter the city name: \")\n",
        " \n",
        "complete_api_link = \"https://api.openweathermap.org/data/2.5/weather?q=\"+location+\"&appid=\"+api_key\n",
        "api_link = requests.get(complete_api_link)\n",
        "api_data = api_link.json()\n",
        " \n",
        "#create variables to store and display data\n",
        "temp_city = ((api_data['main']['temp']) - 273.15)\n",
        "weather_desc = api_data['weather'][0]['description']\n",
        "hmdt = api_data['main']['humidity']\n",
        "wind_spd = api_data['wind']['speed']\n",
        "date_time = datetime.now().strftime(\"%d %b %Y | %I:%M:%S %p\")\n",
        " \n",
        "print (\"-------------------------------------------------------------\")\n",
        "print (\"Weather Stats for - {}  || {}\".format(location.upper(), date_time))\n",
        "print (\"-------------------------------------------------------------\")\n",
        " \n",
        "print (\"Current temperature is: {:.2f} deg C\".format(temp_city))\n",
        "print (\"Current weather desc  :\",weather_desc)\n",
        "print (\"Current Humidity      :\",hmdt, '%')\n",
        "print (\"Current wind speed    :\",wind_spd ,'kmph') \n",
        "with open('weatherboot.txt','w')as f:\n",
        "  a=\"Weather Stats for - {}  || {}\\n\".format(location.upper(), date_time)\n",
        "  b=\"Current temperature is: {:.2f} deg C\\n\".format(temp_city)\n",
        "  c=\"Current weather desc  :\\n\".format(weather_desc)\n",
        "  d=\"Current Humidity      :{}%\\n\".format(hmdt)\n",
        "  e=\"Current wind speed    :{}kmph\\n\".format(wind_spd)\n",
        "  f.write(a+b+c+d+e)"
      ],
      "execution_count": 1,
      "outputs": [
        {
          "output_type": "stream",
          "text": [
            "Enter the city name: bengal\n",
            "-------------------------------------------------------------\n",
            "Weather Stats for - BENGAL  || 23 Jun 2021 | 09:59:03 AM\n",
            "-------------------------------------------------------------\n",
            "Current temperature is: 16.86 deg C\n",
            "Current weather desc  : few clouds\n",
            "Current Humidity      : 58 %\n",
            "Current wind speed    : 1.98 kmph\n"
          ],
          "name": "stdout"
        }
      ]
    }
  ]
}